{
 "cells": [
  {
   "cell_type": "code",
   "execution_count": 4,
   "metadata": {},
   "outputs": [
    {
     "name": "stdout",
     "output_type": "stream",
     "text": [
      "The autoreload extension is already loaded. To reload it, use:\n",
      "  %reload_ext autoreload\n"
     ]
    }
   ],
   "source": [
    "%load_ext autoreload\n",
    "%autoreload 2"
   ]
  },
  {
   "cell_type": "code",
   "execution_count": 5,
   "metadata": {},
   "outputs": [],
   "source": [
    "import os\n",
    "import sys\n",
    "import h5py\n",
    "import numpy as np\n",
    "import pandas as pd\n",
    "import matplotlib.pyplot as plt"
   ]
  },
  {
   "cell_type": "code",
   "execution_count": 6,
   "metadata": {},
   "outputs": [],
   "source": [
    "from dotmap import DotMap"
   ]
  },
  {
   "cell_type": "code",
   "execution_count": 7,
   "metadata": {},
   "outputs": [],
   "source": [
    "PROJECT_PATH = '../'\n",
    "DATA_DIR = \"/home/swei20/AE/data/\"\n",
    "PCA_PATH = '/scratch/ceph/dobos/data/pfsspec/import/stellar/rbf/bosz_5000_full/pca/spectra.h5'\n",
    "NORM_PATH = '/scratch/ceph/dobos/data/pfsspec/import/stellar/rbf/bosz_5000_full/norm/spectra.h5'\n",
    "\n",
    "sys.path.insert(0, PROJECT_PATH)"
   ]
  },
  {
   "cell_type": "code",
   "execution_count": 8,
   "metadata": {},
   "outputs": [],
   "source": [
    "os.environ[\"CUDA_VISIBLE_DEVICES\"] = \"0\""
   ]
  },
  {
   "cell_type": "code",
   "execution_count": 9,
   "metadata": {},
   "outputs": [
    {
     "data": {
      "text/plain": [
       "[PhysicalDevice(name='/physical_device:GPU:0', device_type='GPU')]"
      ]
     },
     "execution_count": 9,
     "metadata": {},
     "output_type": "execute_result"
    }
   ],
   "source": [
    "import tensorflow as tf\n",
    "# tf.enable_v2_behavior()\n",
    "gpus = tf.config.list_physical_devices('GPU') \n",
    "for gpu in gpus:\n",
    "    tf.config.experimental.set_memory_growth(gpu, True)\n",
    "gpus"
   ]
  },
  {
   "cell_type": "markdown",
   "metadata": {},
   "source": [
    "### Load data"
   ]
  },
  {
   "cell_type": "code",
   "execution_count": 10,
   "metadata": {},
   "outputs": [],
   "source": [
    "with h5py.File(NORM_PATH, 'r') as f:\n",
    "    flux = f['flux'][()]\n",
    "    mask = f['flux_idx'][()]\n",
    "\n",
    "    wave = f['wave'][()]\n",
    "#     eigv = f['flux_eigv'][()]"
   ]
  },
  {
   "cell_type": "code",
   "execution_count": 11,
   "metadata": {},
   "outputs": [],
   "source": [
    "para = pd.DataFrame(data=np.transpose(np.where(mask)), columns=[\"F\",\"T\",\"L\",\"C\",\"O\"])"
   ]
  },
  {
   "cell_type": "code",
   "execution_count": 55,
   "metadata": {},
   "outputs": [],
   "source": [
    "idx0 = para[(para[\"O\"] == 1)].index\n",
    "idx00 = para[(para[\"O\"] == 1)&(para[\"C\"] == 1)].index"
   ]
  },
  {
   "cell_type": "code",
   "execution_count": 13,
   "metadata": {},
   "outputs": [
    {
     "data": {
      "text/html": [
       "<div>\n",
       "<style scoped>\n",
       "    .dataframe tbody tr th:only-of-type {\n",
       "        vertical-align: middle;\n",
       "    }\n",
       "\n",
       "    .dataframe tbody tr th {\n",
       "        vertical-align: top;\n",
       "    }\n",
       "\n",
       "    .dataframe thead th {\n",
       "        text-align: right;\n",
       "    }\n",
       "</style>\n",
       "<table border=\"1\" class=\"dataframe\">\n",
       "  <thead>\n",
       "    <tr style=\"text-align: right;\">\n",
       "      <th></th>\n",
       "      <th>F</th>\n",
       "      <th>T</th>\n",
       "      <th>L</th>\n",
       "      <th>C</th>\n",
       "      <th>O</th>\n",
       "    </tr>\n",
       "  </thead>\n",
       "  <tbody>\n",
       "    <tr>\n",
       "      <th>1</th>\n",
       "      <td>0</td>\n",
       "      <td>0</td>\n",
       "      <td>0</td>\n",
       "      <td>1</td>\n",
       "      <td>1</td>\n",
       "    </tr>\n",
       "    <tr>\n",
       "      <th>5</th>\n",
       "      <td>0</td>\n",
       "      <td>0</td>\n",
       "      <td>0</td>\n",
       "      <td>2</td>\n",
       "      <td>1</td>\n",
       "    </tr>\n",
       "    <tr>\n",
       "      <th>9</th>\n",
       "      <td>0</td>\n",
       "      <td>0</td>\n",
       "      <td>0</td>\n",
       "      <td>3</td>\n",
       "      <td>1</td>\n",
       "    </tr>\n",
       "    <tr>\n",
       "      <th>13</th>\n",
       "      <td>0</td>\n",
       "      <td>0</td>\n",
       "      <td>0</td>\n",
       "      <td>4</td>\n",
       "      <td>1</td>\n",
       "    </tr>\n",
       "    <tr>\n",
       "      <th>17</th>\n",
       "      <td>0</td>\n",
       "      <td>0</td>\n",
       "      <td>0</td>\n",
       "      <td>5</td>\n",
       "      <td>1</td>\n",
       "    </tr>\n",
       "    <tr>\n",
       "      <th>...</th>\n",
       "      <td>...</td>\n",
       "      <td>...</td>\n",
       "      <td>...</td>\n",
       "      <td>...</td>\n",
       "      <td>...</td>\n",
       "    </tr>\n",
       "    <tr>\n",
       "      <th>38413</th>\n",
       "      <td>13</td>\n",
       "      <td>12</td>\n",
       "      <td>10</td>\n",
       "      <td>1</td>\n",
       "      <td>1</td>\n",
       "    </tr>\n",
       "    <tr>\n",
       "      <th>38417</th>\n",
       "      <td>13</td>\n",
       "      <td>12</td>\n",
       "      <td>10</td>\n",
       "      <td>2</td>\n",
       "      <td>1</td>\n",
       "    </tr>\n",
       "    <tr>\n",
       "      <th>38421</th>\n",
       "      <td>13</td>\n",
       "      <td>12</td>\n",
       "      <td>10</td>\n",
       "      <td>3</td>\n",
       "      <td>1</td>\n",
       "    </tr>\n",
       "    <tr>\n",
       "      <th>38425</th>\n",
       "      <td>13</td>\n",
       "      <td>12</td>\n",
       "      <td>10</td>\n",
       "      <td>4</td>\n",
       "      <td>1</td>\n",
       "    </tr>\n",
       "    <tr>\n",
       "      <th>38429</th>\n",
       "      <td>13</td>\n",
       "      <td>12</td>\n",
       "      <td>10</td>\n",
       "      <td>5</td>\n",
       "      <td>1</td>\n",
       "    </tr>\n",
       "  </tbody>\n",
       "</table>\n",
       "<p>9631 rows × 5 columns</p>\n",
       "</div>"
      ],
      "text/plain": [
       "        F   T   L  C  O\n",
       "1       0   0   0  1  1\n",
       "5       0   0   0  2  1\n",
       "9       0   0   0  3  1\n",
       "13      0   0   0  4  1\n",
       "17      0   0   0  5  1\n",
       "...    ..  ..  .. .. ..\n",
       "38413  13  12  10  1  1\n",
       "38417  13  12  10  2  1\n",
       "38421  13  12  10  3  1\n",
       "38425  13  12  10  4  1\n",
       "38429  13  12  10  5  1\n",
       "\n",
       "[9631 rows x 5 columns]"
      ]
     },
     "execution_count": 13,
     "metadata": {},
     "output_type": "execute_result"
    }
   ],
   "source": [
    "para.iloc[id_test]"
   ]
  },
  {
   "cell_type": "code",
   "execution_count": 14,
   "metadata": {},
   "outputs": [],
   "source": [
    "flux0 = flux[mask]"
   ]
  },
  {
   "cell_type": "code",
   "execution_count": 15,
   "metadata": {},
   "outputs": [
    {
     "data": {
      "text/plain": [
       "[<matplotlib.lines.Line2D at 0x7f2fc0395c70>]"
      ]
     },
     "execution_count": 15,
     "metadata": {},
     "output_type": "execute_result"
    },
    {
     "data": {
      "image/png": "[encoded data removed]",
      "text/plain": [
       "<Figure size 432x288 with 1 Axes>"
      ]
     },
     "metadata": {
      "needs_background": "light"
     },
     "output_type": "display_data"
    }
   ],
   "source": [
    "plt.plot(flux0[0])"
   ]
  },
  {
   "cell_type": "markdown",
   "metadata": {},
   "source": [
    "## Robust PCA"
   ]
  },
  {
   "cell_type": "code",
   "execution_count": 16,
   "metadata": {},
   "outputs": [],
   "source": [
    "def get_flux_in_Wrange(flux, wave, Ws):\n",
    "    start = np.digitize(Ws[0], wave)\n",
    "    end = np.digitize(Ws[1], wave)\n",
    "    return flux[..., start:end], wave[start:end]"
   ]
  },
  {
   "cell_type": "code",
   "execution_count": 17,
   "metadata": {},
   "outputs": [],
   "source": [
    "flux1, wave1 = get_flux_in_Wrange(flux0, wave, [3800, 13000])"
   ]
  },
  {
   "cell_type": "code",
   "execution_count": 18,
   "metadata": {},
   "outputs": [],
   "source": [
    "flux2 = np.clip(-flux1, 0, None)"
   ]
  },
  {
   "cell_type": "code",
   "execution_count": 19,
   "metadata": {},
   "outputs": [
    {
     "data": {
      "text/plain": [
       "[<matplotlib.lines.Line2D at 0x7f2fc02a0610>]"
      ]
     },
     "execution_count": 19,
     "metadata": {},
     "output_type": "execute_result"
    },
    {
     "data": {
      "image/png": "[encoded data removed]",
      "text/plain": [
       "<Figure size 432x288 with 1 Axes>"
      ]
     },
     "metadata": {
      "needs_background": "light"
     },
     "output_type": "display_data"
    }
   ],
   "source": [
    "plt.plot(wave1, flux2[0])"
   ]
  },
  {
   "cell_type": "code",
   "execution_count": 20,
   "metadata": {},
   "outputs": [],
   "source": [
    "from lv.rpca import RPCA\n",
    "from lv.rpca_jkarnows import rpcaADMM"
   ]
  },
  {
   "cell_type": "code",
   "execution_count": 21,
   "metadata": {},
   "outputs": [
    {
     "data": {
      "text/plain": [
       "array([ 3800.3757,  3800.7556,  3801.1357, ..., 12996.7305, 12998.0312,\n",
       "       12999.3311])"
      ]
     },
     "execution_count": 21,
     "metadata": {},
     "output_type": "execute_result"
    }
   ],
   "source": [
    "wave1"
   ]
  },
  {
   "cell_type": "code",
   "execution_count": 22,
   "metadata": {},
   "outputs": [],
   "source": [
    "flux_test, wave_test = get_flux_in_Wrange(flux2, wave1, [4500, 9800])"
   ]
  },
  {
   "cell_type": "code",
   "execution_count": 64,
   "metadata": {},
   "outputs": [],
   "source": [
    "flux3, wave3 = get_flux_in_Wrange(flux2, wave1, [8000, 9500])"
   ]
  },
  {
   "cell_type": "code",
   "execution_count": 65,
   "metadata": {},
   "outputs": [],
   "source": [
    "flux3_00 = flux3[idx00]"
   ]
  },
  {
   "cell_type": "code",
   "execution_count": 66,
   "metadata": {},
   "outputs": [
    {
     "data": {
      "text/plain": [
       "(1909, 1718)"
      ]
     },
     "execution_count": 66,
     "metadata": {},
     "output_type": "execute_result"
    }
   ],
   "source": [
    "flux3_00.shape"
   ]
  },
  {
   "cell_type": "code",
   "execution_count": 67,
   "metadata": {},
   "outputs": [],
   "source": [
    "SAVE_PATH = \"/home/swei20/LV/data/w8_95.h5\""
   ]
  },
  {
   "cell_type": "code",
   "execution_count": 70,
   "metadata": {},
   "outputs": [
    {
     "data": {
      "text/plain": [
       "array([[ 0,  0,  0,  1,  1],\n",
       "       [ 0,  0,  1,  1,  1],\n",
       "       [ 0,  0,  2,  1,  1],\n",
       "       ...,\n",
       "       [13, 12,  8,  1,  1],\n",
       "       [13, 12,  9,  1,  1],\n",
       "       [13, 12, 10,  1,  1]])"
      ]
     },
     "execution_count": 70,
     "metadata": {},
     "output_type": "execute_result"
    }
   ],
   "source": [
    "para.iloc[idx00].values"
   ]
  },
  {
   "cell_type": "code",
   "execution_count": 83,
   "metadata": {},
   "outputs": [],
   "source": [
    "flux4, wave4 = get_flux_in_Wrange(flux2, wave1, [4500, 9800])"
   ]
  },
  {
   "cell_type": "code",
   "execution_count": 84,
   "metadata": {},
   "outputs": [
    {
     "data": {
      "text/plain": [
       "(38432, 7783)"
      ]
     },
     "execution_count": 84,
     "metadata": {},
     "output_type": "execute_result"
    }
   ],
   "source": [
    "flux4.shape"
   ]
  },
  {
   "cell_type": "code",
   "execution_count": 85,
   "metadata": {},
   "outputs": [],
   "source": [
    "SAVE_PATH = \"/home/swei20/LV/data/w45_98.h5\"\n",
    "save(SAVE_PATH, flux4, wave4, para, para.index)"
   ]
  },
  {
   "cell_type": "code",
   "execution_count": 72,
   "metadata": {},
   "outputs": [],
   "source": [
    "def save(SAVE_PATH, flux, wave, para, idx):\n",
    "    with h5py.File(SAVE_PATH, 'w') as f:\n",
    "        f.create_dataset('flux', data = flux, shape=flux.shape)\n",
    "        f.create_dataset('wave', data = wave)\n",
    "        f.create_dataset('para', data = para.iloc[idx].values)"
   ]
  },
  {
   "cell_type": "code",
   "execution_count": 71,
   "metadata": {},
   "outputs": [],
   "source": [
    "with h5py.File(SAVE_PATH, 'w') as f:\n",
    "    f.create_dataset('flux', data = flux3_00, shape=flux3_00.shape)\n",
    "    f.create_dataset('wave', data = wave3)\n",
    "    f.create_dataset('para', data = para.iloc[idx00].values)"
   ]
  },
  {
   "cell_type": "code",
   "execution_count": 25,
   "metadata": {},
   "outputs": [
    {
     "data": {
      "text/plain": [
       "(38432, 4105)"
      ]
     },
     "execution_count": 25,
     "metadata": {},
     "output_type": "execute_result"
    }
   ],
   "source": [
    "flux_test.shape"
   ]
  },
  {
   "cell_type": "code",
   "execution_count": 73,
   "metadata": {},
   "outputs": [
    {
     "data": {
      "text/plain": [
       "(38432, 12299)"
      ]
     },
     "execution_count": 73,
     "metadata": {},
     "output_type": "execute_result"
    }
   ],
   "source": [
    "flux2.shape"
   ]
  },
  {
   "cell_type": "code",
   "execution_count": 74,
   "metadata": {},
   "outputs": [
    {
     "data": {
      "text/plain": [
       "(12299,)"
      ]
     },
     "execution_count": 74,
     "metadata": {},
     "output_type": "execute_result"
    }
   ],
   "source": [
    "wave1.shape"
   ]
  },
  {
   "cell_type": "code",
   "execution_count": 79,
   "metadata": {},
   "outputs": [
    {
     "data": {
      "text/html": [
       "<div>\n",
       "<style scoped>\n",
       "    .dataframe tbody tr th:only-of-type {\n",
       "        vertical-align: middle;\n",
       "    }\n",
       "\n",
       "    .dataframe tbody tr th {\n",
       "        vertical-align: top;\n",
       "    }\n",
       "\n",
       "    .dataframe thead th {\n",
       "        text-align: right;\n",
       "    }\n",
       "</style>\n",
       "<table border=\"1\" class=\"dataframe\">\n",
       "  <thead>\n",
       "    <tr style=\"text-align: right;\">\n",
       "      <th></th>\n",
       "      <th>F</th>\n",
       "      <th>T</th>\n",
       "      <th>L</th>\n",
       "      <th>C</th>\n",
       "      <th>O</th>\n",
       "    </tr>\n",
       "  </thead>\n",
       "  <tbody>\n",
       "    <tr>\n",
       "      <th>0</th>\n",
       "      <td>0</td>\n",
       "      <td>0</td>\n",
       "      <td>0</td>\n",
       "      <td>1</td>\n",
       "      <td>0</td>\n",
       "    </tr>\n",
       "    <tr>\n",
       "      <th>1</th>\n",
       "      <td>0</td>\n",
       "      <td>0</td>\n",
       "      <td>0</td>\n",
       "      <td>1</td>\n",
       "      <td>1</td>\n",
       "    </tr>\n",
       "    <tr>\n",
       "      <th>2</th>\n",
       "      <td>0</td>\n",
       "      <td>0</td>\n",
       "      <td>0</td>\n",
       "      <td>1</td>\n",
       "      <td>2</td>\n",
       "    </tr>\n",
       "    <tr>\n",
       "      <th>3</th>\n",
       "      <td>0</td>\n",
       "      <td>0</td>\n",
       "      <td>0</td>\n",
       "      <td>1</td>\n",
       "      <td>3</td>\n",
       "    </tr>\n",
       "    <tr>\n",
       "      <th>4</th>\n",
       "      <td>0</td>\n",
       "      <td>0</td>\n",
       "      <td>0</td>\n",
       "      <td>2</td>\n",
       "      <td>0</td>\n",
       "    </tr>\n",
       "    <tr>\n",
       "      <th>...</th>\n",
       "      <td>...</td>\n",
       "      <td>...</td>\n",
       "      <td>...</td>\n",
       "      <td>...</td>\n",
       "      <td>...</td>\n",
       "    </tr>\n",
       "    <tr>\n",
       "      <th>38427</th>\n",
       "      <td>13</td>\n",
       "      <td>12</td>\n",
       "      <td>10</td>\n",
       "      <td>4</td>\n",
       "      <td>3</td>\n",
       "    </tr>\n",
       "    <tr>\n",
       "      <th>38428</th>\n",
       "      <td>13</td>\n",
       "      <td>12</td>\n",
       "      <td>10</td>\n",
       "      <td>5</td>\n",
       "      <td>0</td>\n",
       "    </tr>\n",
       "    <tr>\n",
       "      <th>38429</th>\n",
       "      <td>13</td>\n",
       "      <td>12</td>\n",
       "      <td>10</td>\n",
       "      <td>5</td>\n",
       "      <td>1</td>\n",
       "    </tr>\n",
       "    <tr>\n",
       "      <th>38430</th>\n",
       "      <td>13</td>\n",
       "      <td>12</td>\n",
       "      <td>10</td>\n",
       "      <td>5</td>\n",
       "      <td>2</td>\n",
       "    </tr>\n",
       "    <tr>\n",
       "      <th>38431</th>\n",
       "      <td>13</td>\n",
       "      <td>12</td>\n",
       "      <td>10</td>\n",
       "      <td>5</td>\n",
       "      <td>3</td>\n",
       "    </tr>\n",
       "  </tbody>\n",
       "</table>\n",
       "<p>38432 rows × 5 columns</p>\n",
       "</div>"
      ],
      "text/plain": [
       "        F   T   L  C  O\n",
       "0       0   0   0  1  0\n",
       "1       0   0   0  1  1\n",
       "2       0   0   0  1  2\n",
       "3       0   0   0  1  3\n",
       "4       0   0   0  2  0\n",
       "...    ..  ..  .. .. ..\n",
       "38427  13  12  10  4  3\n",
       "38428  13  12  10  5  0\n",
       "38429  13  12  10  5  1\n",
       "38430  13  12  10  5  2\n",
       "38431  13  12  10  5  3\n",
       "\n",
       "[38432 rows x 5 columns]"
      ]
     },
     "execution_count": 79,
     "metadata": {},
     "output_type": "execute_result"
    }
   ],
   "source": [
    "para.iloc[para.index]"
   ]
  },
  {
   "cell_type": "code",
   "execution_count": 80,
   "metadata": {},
   "outputs": [],
   "source": [
    "SAVE_PATH = \"/home/swei20/LV/data/full.h5\"\n",
    "save(SAVE_PATH, flux2, wave1, para, para.index)"
   ]
  },
  {
   "cell_type": "code",
   "execution_count": null,
   "metadata": {},
   "outputs": [],
   "source": [
    "flux_test, wave_test = get_flux_in_Wrange(flux2, wave1, [6500, 9800])"
   ]
  },
  {
   "cell_type": "markdown",
   "metadata": {},
   "source": [
    "# wave 6500 - 9800 #wave=4105"
   ]
  },
  {
   "cell_type": "markdown",
   "metadata": {},
   "source": [
    "## #spectra 38432"
   ]
  },
  {
   "cell_type": "code",
   "execution_count": 49,
   "metadata": {},
   "outputs": [],
   "source": [
    "X =flux_test"
   ]
  },
  {
   "cell_type": "code",
   "execution_count": null,
   "metadata": {},
   "outputs": [
    {
     "name": "stdout",
     "output_type": "stream",
     "text": [
      "\n",
      "iter\t    r norm\t   eps pri\t    s norm\t  eps dual\t objective\n",
      "   1\t  726.6321\t   13.1607\t 1098.5192\t   12.8851\t 183509.39\n",
      "  10\t  198.4063\t   16.4561\t  125.0211\t   13.8606\t 800872.96\n",
      "  20\t   48.4254\t   17.8286\t   50.4195\t   12.2674\t 834245.03\n"
     ]
    }
   ],
   "source": [
    "h = rpcaADMM(X)"
   ]
  },
  {
   "cell_type": "code",
   "execution_count": 86,
   "metadata": {},
   "outputs": [
    {
     "data": {
      "text/plain": [
       "{'objval': array([ 183509.38674833,  853074.85664224, 1495565.23915472,\n",
       "        1540564.22012383, 1155994.81661257,  823194.53999945,\n",
       "         646015.01276341,  586434.24578963,  649978.98892377,\n",
       "         800872.95864985,  936711.15962573,  977068.18536391,\n",
       "         925503.95848323,  836588.03439823,  763474.69260388,\n",
       "         732336.19733719,  742637.69295379,  776733.78592139,\n",
       "         812745.38169868,  834245.02744373,  835005.73500379,\n",
       "         820204.70981263,  801995.8499028 ,  790625.44063843,\n",
       "         788297.61998551,  791484.97716353,  796256.55894439,\n",
       "         800526.95972562,  803610.50353804,  805301.79393142,\n",
       "         805617.31862595,  804699.9305687 ,  802624.02847554,\n",
       "              0.        ,       0.        ,       0.        ,\n",
       "              0.        ,       0.        ,       0.        ,\n",
       "              0.        ,       0.        ,       0.        ,\n",
       "              0.        ,       0.        ,       0.        ,\n",
       "              0.        ,       0.        ,       0.        ,\n",
       "              0.        ,       0.        ,       0.        ,\n",
       "              0.        ,       0.        ,       0.        ,\n",
       "              0.        ,       0.        ,       0.        ,\n",
       "              0.        ,       0.        ,       0.        ,\n",
       "              0.        ,       0.        ,       0.        ,\n",
       "              0.        ,       0.        ,       0.        ,\n",
       "              0.        ,       0.        ,       0.        ,\n",
       "              0.        ,       0.        ,       0.        ,\n",
       "              0.        ,       0.        ,       0.        ,\n",
       "              0.        ,       0.        ,       0.        ,\n",
       "              0.        ,       0.        ,       0.        ,\n",
       "              0.        ,       0.        ,       0.        ,\n",
       "              0.        ,       0.        ,       0.        ,\n",
       "              0.        ,       0.        ,       0.        ,\n",
       "              0.        ,       0.        ,       0.        ,\n",
       "              0.        ,       0.        ,       0.        ,\n",
       "              0.        ,       0.        ,       0.        ,\n",
       "              0.        ]),\n",
       " 'r_norm': array([726.63205439, 246.433057  , 617.32627   , 703.57144194,\n",
       "        440.09127677, 259.6636032 , 301.09633966, 348.55024709,\n",
       "        290.25821589, 198.40626062, 174.012213  , 192.37434553,\n",
       "        191.08979429, 150.2455316 , 100.81802118,  94.02662211,\n",
       "        112.94173534, 106.81762822,  73.07568888,  48.42541099,\n",
       "         62.62173564,  70.35768324,  54.92569473,  30.44563714,\n",
       "         31.86574047,  42.68975727,  38.52035037,  23.86373076,\n",
       "         17.49100186,  23.9398149 ,  24.97053926,  18.74559469,\n",
       "         12.18168997,   0.        ,   0.        ,   0.        ,\n",
       "          0.        ,   0.        ,   0.        ,   0.        ,\n",
       "          0.        ,   0.        ,   0.        ,   0.        ,\n",
       "          0.        ,   0.        ,   0.        ,   0.        ,\n",
       "          0.        ,   0.        ,   0.        ,   0.        ,\n",
       "          0.        ,   0.        ,   0.        ,   0.        ,\n",
       "          0.        ,   0.        ,   0.        ,   0.        ,\n",
       "          0.        ,   0.        ,   0.        ,   0.        ,\n",
       "          0.        ,   0.        ,   0.        ,   0.        ,\n",
       "          0.        ,   0.        ,   0.        ,   0.        ,\n",
       "          0.        ,   0.        ,   0.        ,   0.        ,\n",
       "          0.        ,   0.        ,   0.        ,   0.        ,\n",
       "          0.        ,   0.        ,   0.        ,   0.        ,\n",
       "          0.        ,   0.        ,   0.        ,   0.        ,\n",
       "          0.        ,   0.        ,   0.        ,   0.        ,\n",
       "          0.        ,   0.        ,   0.        ,   0.        ,\n",
       "          0.        ,   0.        ,   0.        ,   0.        ]),\n",
       " 's_norm': array([1098.51924479,  402.66933978,  442.80282203,  331.87256129,\n",
       "         208.88936554,  222.36415959,  242.79877835,  186.62161776,\n",
       "         113.40666279,  125.02113683,  151.15424519,  134.56406852,\n",
       "          93.65603423,   72.51991654,   82.20323928,   83.37322866,\n",
       "          65.48556993,   44.95685341,   43.79365673,   50.41951014,\n",
       "          46.58854895,   33.46447818,   24.64077866,   28.19718396,\n",
       "          30.15438955,   24.17047386,   15.69663313,   15.30476968,\n",
       "          18.34808554,   16.80162496,   11.67616977,    8.91791762,\n",
       "          10.52217088,    0.        ,    0.        ,    0.        ,\n",
       "           0.        ,    0.        ,    0.        ,    0.        ,\n",
       "           0.        ,    0.        ,    0.        ,    0.        ,\n",
       "           0.        ,    0.        ,    0.        ,    0.        ,\n",
       "           0.        ,    0.        ,    0.        ,    0.        ,\n",
       "           0.        ,    0.        ,    0.        ,    0.        ,\n",
       "           0.        ,    0.        ,    0.        ,    0.        ,\n",
       "           0.        ,    0.        ,    0.        ,    0.        ,\n",
       "           0.        ,    0.        ,    0.        ,    0.        ,\n",
       "           0.        ,    0.        ,    0.        ,    0.        ,\n",
       "           0.        ,    0.        ,    0.        ,    0.        ,\n",
       "           0.        ,    0.        ,    0.        ,    0.        ,\n",
       "           0.        ,    0.        ,    0.        ,    0.        ,\n",
       "           0.        ,    0.        ,    0.        ,    0.        ,\n",
       "           0.        ,    0.        ,    0.        ,    0.        ,\n",
       "           0.        ,    0.        ,    0.        ,    0.        ,\n",
       "           0.        ,    0.        ,    0.        ,    0.        ]),\n",
       " 'eps_pri': array([13.16071556, 14.46739405, 21.39577275, 23.93446376, 22.2029537 ,\n",
       "        18.74522855, 17.01152046, 16.07318295, 15.93810729, 16.45606567,\n",
       "        18.20918106, 19.39720993, 19.54053308, 18.8395153 , 17.93209919,\n",
       "        17.47349818, 17.19869371, 17.1756821 , 17.35353251, 17.82858717,\n",
       "        18.1443146 , 18.19918241, 18.03219257, 17.78894566, 17.64599833,\n",
       "        17.54701392, 17.5206497 , 17.56145076, 17.65954893, 17.78602114,\n",
       "        17.8471816 , 17.82909327, 17.75164932,  0.        ,  0.        ,\n",
       "         0.        ,  0.        ,  0.        ,  0.        ,  0.        ,\n",
       "         0.        ,  0.        ,  0.        ,  0.        ,  0.        ,\n",
       "         0.        ,  0.        ,  0.        ,  0.        ,  0.        ,\n",
       "         0.        ,  0.        ,  0.        ,  0.        ,  0.        ,\n",
       "         0.        ,  0.        ,  0.        ,  0.        ,  0.        ,\n",
       "         0.        ,  0.        ,  0.        ,  0.        ,  0.        ,\n",
       "         0.        ,  0.        ,  0.        ,  0.        ,  0.        ,\n",
       "         0.        ,  0.        ,  0.        ,  0.        ,  0.        ,\n",
       "         0.        ,  0.        ,  0.        ,  0.        ,  0.        ,\n",
       "         0.        ,  0.        ,  0.        ,  0.        ,  0.        ,\n",
       "         0.        ,  0.        ,  0.        ,  0.        ,  0.        ,\n",
       "         0.        ,  0.        ,  0.        ,  0.        ,  0.        ,\n",
       "         0.        ,  0.        ,  0.        ,  0.        ,  0.        ]),\n",
       " 'eps_dual': array([12.88511506, 20.11301643, 20.73425114, 16.3451908 , 12.01170295,\n",
       "        10.41444821, 10.17090745, 10.80722401, 12.38015854, 13.86056834,\n",
       "        14.23637115, 13.45635885, 12.14660747, 11.12223175, 10.8417552 ,\n",
       "        11.13766018, 11.62357046, 12.04928612, 12.28567617, 12.26743511,\n",
       "        12.03604719, 11.75333133, 11.58751052, 11.5795754 , 11.65366284,\n",
       "        11.73431105, 11.79726397, 11.83833517, 11.85124792, 11.83609219,\n",
       "        11.80431409, 11.76861645, 11.73644831,  0.        ,  0.        ,\n",
       "         0.        ,  0.        ,  0.        ,  0.        ,  0.        ,\n",
       "         0.        ,  0.        ,  0.        ,  0.        ,  0.        ,\n",
       "         0.        ,  0.        ,  0.        ,  0.        ,  0.        ,\n",
       "         0.        ,  0.        ,  0.        ,  0.        ,  0.        ,\n",
       "         0.        ,  0.        ,  0.        ,  0.        ,  0.        ,\n",
       "         0.        ,  0.        ,  0.        ,  0.        ,  0.        ,\n",
       "         0.        ,  0.        ,  0.        ,  0.        ,  0.        ,\n",
       "         0.        ,  0.        ,  0.        ,  0.        ,  0.        ,\n",
       "         0.        ,  0.        ,  0.        ,  0.        ,  0.        ,\n",
       "         0.        ,  0.        ,  0.        ,  0.        ,  0.        ,\n",
       "         0.        ,  0.        ,  0.        ,  0.        ,  0.        ,\n",
       "         0.        ,  0.        ,  0.        ,  0.        ,  0.        ,\n",
       "         0.        ,  0.        ,  0.        ,  0.        ,  0.        ]),\n",
       " 'admm_toc': 4954.082948207855,\n",
       " 'admm_iter': 32,\n",
       " 'X1_admm': array([[ 0.08129586,  0.0672258 ,  0.02269837, ..., -0.00193126,\n",
       "         -0.00286991, -0.00408099],\n",
       "        [ 0.08272556,  0.07705167,  0.03021493, ..., -0.00231186,\n",
       "         -0.00326148, -0.00427049],\n",
       "        [ 0.08401945,  0.08706785,  0.03793862, ..., -0.00255971,\n",
       "         -0.00339641, -0.00420447],\n",
       "        ...,\n",
       "        [-0.0040295 ,  0.03148092,  0.02037343, ..., -0.01144746,\n",
       "         -0.0084208 ,  0.00224453],\n",
       "        [ 0.00411033,  0.04657922,  0.02738268, ..., -0.01404246,\n",
       "         -0.01168252, -0.0013636 ],\n",
       "        [ 0.01334673,  0.06319339,  0.03457471, ..., -0.01726419,\n",
       "         -0.01574986, -0.00581812]]),\n",
       " 'X2_admm': array([[0., 0., 0., ..., 0., 0., 0.],\n",
       "        [0., 0., 0., ..., 0., 0., 0.],\n",
       "        [0., 0., 0., ..., 0., 0., 0.],\n",
       "        ...,\n",
       "        [0., 0., 0., ..., 0., 0., 0.],\n",
       "        [0., 0., 0., ..., 0., 0., 0.],\n",
       "        [0., 0., 0., ..., 0., 0., 0.]]),\n",
       " 'X3_admm': array([[0.02701529, 0.03275198, 0.01865322, ..., 0.00363087, 0.00470981,\n",
       "         0.00587413],\n",
       "        [0.030795  , 0.03725087, 0.02155069, ..., 0.00398109, 0.00512818,\n",
       "         0.00638193],\n",
       "        [0.03620855, 0.04335513, 0.02611067, ..., 0.00435558, 0.00550627,\n",
       "         0.00679149],\n",
       "        ...,\n",
       "        [0.11407543, 0.13094779, 0.07905797, ..., 0.01839333, 0.02365657,\n",
       "         0.02876427],\n",
       "        [0.12574294, 0.14414272, 0.08749287, ..., 0.02012627, 0.02583796,\n",
       "         0.03138252],\n",
       "        [0.1416957 , 0.16155788, 0.0989058 , ..., 0.02285443, 0.02928579,\n",
       "         0.03548247]])}"
      ]
     },
     "execution_count": 86,
     "metadata": {},
     "output_type": "execute_result"
    }
   ],
   "source": [
    "h"
   ]
  },
  {
   "cell_type": "code",
   "execution_count": 53,
   "metadata": {},
   "outputs": [],
   "source": [
    "res = h[\"X1_admm\"] + h[\"X2_admm\"] + h[\"X3_admm\"] - X"
   ]
  },
  {
   "cell_type": "code",
   "execution_count": 82,
   "metadata": {},
   "outputs": [
    {
     "data": {
      "text/plain": [
       "[<matplotlib.lines.Line2D at 0x7f2cc015f100>]"
      ]
     },
     "execution_count": 82,
     "metadata": {},
     "output_type": "execute_result"
    },
    {
     "data": {
      "image/png": "[encoded data removed]",
      "text/plain": [
       "<Figure size 432x288 with 1 Axes>"
      ]
     },
     "metadata": {
      "needs_background": "light"
     },
     "output_type": "display_data"
    }
   ],
   "source": [
    "plt.plot(wave_test, -res.sum(0), label=\"Res - 3k\", c='g')"
   ]
  },
  {
   "cell_type": "code",
   "execution_count": 81,
   "metadata": {},
   "outputs": [
    {
     "data": {
      "text/plain": [
       "<matplotlib.legend.Legend at 0x7f2cc0243130>"
      ]
     },
     "execution_count": 81,
     "metadata": {},
     "output_type": "execute_result"
    },
    {
     "data": {
      "image/png": "[encoded data removed]",
      "text/plain": [
       "<Figure size 432x288 with 1 Axes>"
      ]
     },
     "metadata": {
      "needs_background": "light"
     },
     "output_type": "display_data"
    }
   ],
   "source": [
    "plt.plot(wave_test, -res.sum(0)-10000, label=\"Res - 3k\", c='g')\n",
    "plt.plot(wave_test, -h[\"X3_admm\"].sum(0), label = \"LowRank\", c='skyblue')\n",
    "\n",
    "plt.plot(wave_test, -h[\"X2_admm\"].sum(0)-5000, label=\"Sparse - 2k\", c='r')\n",
    "plt.xlabel(\"wave\")\n",
    "plt.ylabel(\"norm flux\")\n",
    "plt.title(\"38k Spec @ LowT 3500 -6500K\")\n",
    "plt.legend()"
   ]
  },
  {
   "cell_type": "markdown",
   "metadata": {},
   "source": [
    "## #spectra 9631 @ O/M = 0.0"
   ]
  },
  {
   "cell_type": "code",
   "execution_count": 26,
   "metadata": {},
   "outputs": [
    {
     "name": "stdout",
     "output_type": "stream",
     "text": [
      "\n",
      "iter\t    r norm\t   eps pri\t    s norm\t  eps dual\t objective\n",
      "   1\t  325.0235\t    5.9321\t  484.3074\t    5.8043\t  34274.05\n",
      "  10\t   84.7642\t    7.3108\t   54.4751\t    6.2301\t 155560.08\n",
      "  20\t   20.5487\t    7.9529\t   23.2517\t    5.4544\t 161516.83\n",
      "  30\t   11.4010\t    7.9452\t    8.4634\t    5.2613\t 155281.83\n"
     ]
    }
   ],
   "source": [
    "X =flux_test00 #(9631, 4105)\n",
    "h = rpcaADMM(X)"
   ]
  },
  {
   "cell_type": "code",
   "execution_count": 33,
   "metadata": {},
   "outputs": [
    {
     "data": {
      "text/plain": [
       "array([0.00460325, 2.09104942, 0.0300552 , ..., 0.        , 0.        ,\n",
       "       0.        ])"
      ]
     },
     "execution_count": 33,
     "metadata": {},
     "output_type": "execute_result"
    }
   ],
   "source": [
    "h[\"X2_admm\"].sum(0)"
   ]
  },
  {
   "cell_type": "code",
   "execution_count": 40,
   "metadata": {},
   "outputs": [],
   "source": [
    "Y = h[\"X1_admm\"] + h[\"X2_admm\"] + h[\"X3_admm\"]"
   ]
  },
  {
   "cell_type": "code",
   "execution_count": 42,
   "metadata": {},
   "outputs": [],
   "source": [
    "ress = Y - X"
   ]
  },
  {
   "cell_type": "code",
   "execution_count": 46,
   "metadata": {},
   "outputs": [
    {
     "data": {
      "text/plain": [
       "<matplotlib.legend.Legend at 0x7f2cae3ca730>"
      ]
     },
     "execution_count": 46,
     "metadata": {},
     "output_type": "execute_result"
    },
    {
     "data": {
      "image/png": "[encoded data removed]",
      "text/plain": [
       "<Figure size 432x288 with 1 Axes>"
      ]
     },
     "metadata": {
      "needs_background": "light"
     },
     "output_type": "display_data"
    }
   ],
   "source": [
    "plt.plot(wave_test, -ress.sum(0)-3000, label=\"Res - 3k\", c='g')\n",
    "plt.plot(wave_test, -h[\"X3_admm\"].sum(0), label = \"LowRank\", c='skyblue')\n",
    "\n",
    "plt.plot(wave_test, -h[\"X2_admm\"].sum(0)-2000, label=\"Sparse - 2k\", c='r')\n",
    "plt.xlabel(\"wave\")\n",
    "plt.ylabel(\"norm flux\")\n",
    "plt.title(\"38k Spec @ LowT 3500 -6500K\")\n",
    "plt.legend()"
   ]
  },
  {
   "cell_type": "code",
   "execution_count": 26,
   "metadata": {},
   "outputs": [
    {
     "name": "stdout",
     "output_type": "stream",
     "text": [
      "\n",
      "iter\t    r norm\t   eps pri\t    s norm\t  eps dual\t objective\n",
      "   1\t  325.0235\t    5.9321\t  484.3074\t    5.8043\t  34274.05\n",
      "  10\t   84.7642\t    7.3108\t   54.4751\t    6.2301\t 155560.08\n",
      "  20\t   20.5487\t    7.9529\t   23.2517\t    5.4544\t 161516.83\n",
      "  30\t   11.4010\t    7.9452\t    8.4634\t    5.2613\t 155281.83\n"
     ]
    }
   ],
   "source": [
    "h = rpcaADMM(X)"
   ]
  },
  {
   "cell_type": "code",
   "execution_count": 33,
   "metadata": {},
   "outputs": [
    {
     "data": {
      "text/plain": [
       "array([0.00460325, 2.09104942, 0.0300552 , ..., 0.        , 0.        ,\n",
       "       0.        ])"
      ]
     },
     "execution_count": 33,
     "metadata": {},
     "output_type": "execute_result"
    }
   ],
   "source": [
    "h[\"X2_admm\"].sum(0)"
   ]
  },
  {
   "cell_type": "code",
   "execution_count": 40,
   "metadata": {},
   "outputs": [],
   "source": [
    "Y = h[\"X1_admm\"] + h[\"X2_admm\"] + h[\"X3_admm\"]"
   ]
  },
  {
   "cell_type": "code",
   "execution_count": 42,
   "metadata": {},
   "outputs": [],
   "source": [
    "ress = Y - X"
   ]
  },
  {
   "cell_type": "code",
   "execution_count": 46,
   "metadata": {},
   "outputs": [
    {
     "data": {
      "text/plain": [
       "<matplotlib.legend.Legend at 0x7f2cae3ca730>"
      ]
     },
     "execution_count": 46,
     "metadata": {},
     "output_type": "execute_result"
    },
    {
     "data": {
      "image/png": "[encoded data removed]",
      "text/plain": [
       "<Figure size 432x288 with 1 Axes>"
      ]
     },
     "metadata": {
      "needs_background": "light"
     },
     "output_type": "display_data"
    }
   ],
   "source": [
    "plt.plot(wave_test, -ress.sum(0)-3000, label=\"Res - 3k\", c='g')\n",
    "plt.plot(wave_test, -h[\"X3_admm\"].sum(0), label = \"LowRank\", c='skyblue')\n",
    "\n",
    "plt.plot(wave_test, -h[\"X2_admm\"].sum(0)-2000, label=\"Sparse - 2k\", c='r')\n",
    "plt.xlabel(\"wave\")\n",
    "plt.ylabel(\"norm flux\")\n",
    "plt.title(f\"Spec {X.shape} @ LowT 3500 -6500K\")\n",
    "plt.legend()"
   ]
  },
  {
   "cell_type": "code",
   "execution_count": 48,
   "metadata": {},
   "outputs": [
    {
     "data": {
      "text/plain": [
       "<matplotlib.image.AxesImage at 0x7f2cae3348e0>"
      ]
     },
     "execution_count": 48,
     "metadata": {},
     "output_type": "execute_result"
    },
    {
     "data": {
      "image/png": "[encoded data removed]",
      "text/plain": [
       "<Figure size 288x675.695 with 1 Axes>"
      ]
     },
     "metadata": {
      "needs_background": "light"
     },
     "output_type": "display_data"
    }
   ],
   "source": [
    "plt.matshow(h[\"X2_admm\"], aspect=\"auto\", cmap=\"gray\", vmin=0)"
   ]
  },
  {
   "cell_type": "code",
   "execution_count": null,
   "metadata": {},
   "outputs": [],
   "source": []
  }
 ],
 "metadata": {
  "kernelspec": {
   "display_name": "Python 3 [ae-tf]",
   "language": "python",
   "name": "python3-ae-tf"
  },
  "language_info": {
   "codemirror_mode": {
    "name": "ipython",
    "version": 3
   },
   "file_extension": ".py",
   "mimetype": "text/x-python",
   "name": "python",
   "nbconvert_exporter": "python",
   "pygments_lexer": "ipython3",
   "version": "3.8.10"
  }
 },
 "nbformat": 4,
 "nbformat_minor": 4
}
