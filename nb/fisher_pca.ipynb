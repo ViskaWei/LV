{
 "cells": [
  {
   "cell_type": "code",
   "execution_count": 1,
   "id": "38e5f156-728a-4b8b-a0f3-dd54a0f9d1b4",
   "metadata": {},
   "outputs": [],
   "source": [
    "%load_ext autoreload\n",
    "%autoreload 2                                                                                                                           "
   ]
  },
  {
   "cell_type": "code",
   "execution_count": 2,
   "id": "f14030a3-9cbf-4022-b3b4-24eea06189c3",
   "metadata": {},
   "outputs": [],
   "source": [
    "import os\n",
    "import sys\n",
    "import numpy as np\n",
    "import scipy as sp\n",
    "import pandas as pd\n",
    "import matplotlib.pyplot as plt"
   ]
  },
  {
   "cell_type": "code",
   "execution_count": 3,
   "id": "92ea2a88-65d6-470b-b41a-1831f6b10a59",
   "metadata": {},
   "outputs": [],
   "source": [
    "sys.path.insert(0, '../')"
   ]
  },
  {
   "cell_type": "code",
   "execution_count": null,
   "id": "c9a8e7bc-5c1d-44cf-890f-3fca3a248036",
   "metadata": {},
   "outputs": [],
   "source": [
    "RBF_PATH = f'{DATADIR}/import/stellar/rbf/bosz_5000_{RR}/rbf/'        \n",
    "    fn = os.path.join(RBF_PATH, 'spectra.h5')    \n",
    "    rbf = ModelGrid(Bosz(pca=True, normalized=True), RbfGrid)\n",
    "    rbf.preload_arrays = False\n",
    "    rbf.load(fn, format='h5')\n",
    "    axes = rbf.grid.grid.get_axes()"
   ]
  },
  {
   "cell_type": "code",
   "execution_count": 11,
   "id": "a13bf382-702d-41fa-9044-4f3842371f9f",
   "metadata": {},
   "outputs": [
    {
     "name": "stderr",
     "output_type": "stream",
     "text": [
      "[autoreload of lv.fisher.doppler failed: Traceback (most recent call last):\n",
      "  File \"/datascope/slurm/miniconda3/envs/ae-tf/lib/python3.8/site-packages/IPython/extensions/autoreload.py\", line 245, in check\n",
      "    superreload(m, reload, self.old_objects)\n",
      "  File \"/datascope/slurm/miniconda3/envs/ae-tf/lib/python3.8/site-packages/IPython/extensions/autoreload.py\", line 394, in superreload\n",
      "    module = reload(module)\n",
      "  File \"/datascope/slurm/miniconda3/envs/ae-tf/lib/python3.8/imp.py\", line 314, in reload\n",
      "    return importlib.reload(module)\n",
      "  File \"/datascope/slurm/miniconda3/envs/ae-tf/lib/python3.8/importlib/__init__.py\", line 169, in reload\n",
      "    _bootstrap._exec(spec, module)\n",
      "  File \"<frozen importlib._bootstrap>\", line 604, in _exec\n",
      "  File \"<frozen importlib._bootstrap_external>\", line 848, in exec_module\n",
      "  File \"<frozen importlib._bootstrap>\", line 219, in _call_with_frames_removed\n",
      "  File \"/home/swei20/LV/nb/../lv/fisher/doppler.py\", line 5, in <module>\n",
      "    from lv.util.util import Util\n",
      "ModuleNotFoundError: No module named 'lv.util.util'; 'lv.util' is not a package\n",
      "]\n",
      "[autoreload of lv.fisher.fisher failed: Traceback (most recent call last):\n",
      "  File \"/datascope/slurm/miniconda3/envs/ae-tf/lib/python3.8/site-packages/IPython/extensions/autoreload.py\", line 245, in check\n",
      "    superreload(m, reload, self.old_objects)\n",
      "  File \"/datascope/slurm/miniconda3/envs/ae-tf/lib/python3.8/site-packages/IPython/extensions/autoreload.py\", line 394, in superreload\n",
      "    module = reload(module)\n",
      "  File \"/datascope/slurm/miniconda3/envs/ae-tf/lib/python3.8/imp.py\", line 314, in reload\n",
      "    return importlib.reload(module)\n",
      "  File \"/datascope/slurm/miniconda3/envs/ae-tf/lib/python3.8/importlib/__init__.py\", line 169, in reload\n",
      "    _bootstrap._exec(spec, module)\n",
      "  File \"<frozen importlib._bootstrap>\", line 604, in _exec\n",
      "  File \"<frozen importlib._bootstrap_external>\", line 848, in exec_module\n",
      "  File \"<frozen importlib._bootstrap>\", line 219, in _call_with_frames_removed\n",
      "  File \"/home/swei20/LV/nb/../lv/fisher/fisher.py\", line 19, in <module>\n",
      "    from lv.util.util import Util\n",
      "ModuleNotFoundError: No module named 'lv.util.util'; 'lv.util' is not a package\n",
      "]\n"
     ]
    }
   ],
   "source": [
    "DATADIR=\"/datascope/subaru/user/swei20/data/pfsspec\""
   ]
  },
  {
   "cell_type": "code",
   "execution_count": 4,
   "id": "551ad9e8-e6db-4332-9790-70f6f4bd7442",
   "metadata": {},
   "outputs": [],
   "source": [
    "from lv.fisher.fisher import Fisher"
   ]
  },
  {
   "cell_type": "code",
   "execution_count": 9,
   "id": "acd0e184-9a4d-4cff-951f-2d9042216784",
   "metadata": {},
   "outputs": [
    {
     "name": "stdout",
     "output_type": "stream",
     "text": [
      "https://archive.stsci.edu/missions/hlsp/bosz/ascii/insbroad_050000/metal_-2.00/carbon_+0.00/alpha_+0.25/amm20cp00op03t8000g25v20modrt0b50000rs.asc.bz2\n",
      "#222 R=500.00\n"
     ]
    }
   ],
   "source": [
    "f=Fisher(W=\"RL\")\n",
    "f.init()"
   ]
  },
  {
   "cell_type": "code",
   "execution_count": 10,
   "id": "b15400b3-aa90-411c-9d00-74b96b8eca97",
   "metadata": {},
   "outputs": [
    {
     "ename": "AttributeError",
     "evalue": "'Fisher' object has no attribute 'spec'",
     "output_type": "error",
     "traceback": [
      "\u001b[0;31m---------------------------------------------------------------------------\u001b[0m",
      "\u001b[0;31mAttributeError\u001b[0m                            Traceback (most recent call last)",
      "\u001b[0;32m<ipython-input-10-9a68e4dd166f>\u001b[0m in \u001b[0;36m<module>\u001b[0;34m\u001b[0m\n\u001b[0;32m----> 1\u001b[0;31m \u001b[0mplt\u001b[0m\u001b[0;34m.\u001b[0m\u001b[0mplot\u001b[0m\u001b[0;34m(\u001b[0m\u001b[0mf\u001b[0m\u001b[0;34m.\u001b[0m\u001b[0mwave\u001b[0m\u001b[0;34m,\u001b[0m \u001b[0mf\u001b[0m\u001b[0;34m.\u001b[0m\u001b[0mspec\u001b[0m\u001b[0;34m)\u001b[0m\u001b[0;34m\u001b[0m\u001b[0;34m\u001b[0m\u001b[0m\n\u001b[0m",
      "\u001b[0;31mAttributeError\u001b[0m: 'Fisher' object has no attribute 'spec'"
     ]
    }
   ],
   "source": [
    "plt.plot(f.wave, f.spec)"
   ]
  },
  {
   "cell_type": "code",
   "execution_count": 6,
   "id": "a053f2dd-dad5-4675-ba60-e3c03bab69e2",
   "metadata": {},
   "outputs": [
    {
     "name": "stdout",
     "output_type": "stream",
     "text": [
      "https://archive.stsci.edu/missions/hlsp/bosz/ascii/insbroad_050000/metal_-2.00/carbon_+0.00/alpha_+0.25/amm20cp00op03t8000g25v20modrt0b50000rs.asc.bz2\n",
      "https://archive.stsci.edu/missions/hlsp/bosz/ascii/insbroad_050000/metal_-2.00/carbon_+0.00/alpha_+0.25/amm20cp00op03t8000g20v20modrt0b50000rs.asc.bz2\n",
      "https://archive.stsci.edu/missions/hlsp/bosz/ascii/insbroad_050000/metal_-2.00/carbon_+0.00/alpha_+0.25/amm20cp00op03t8000g30v20modrt0b50000rs.asc.bz2\n",
      "https://archive.stsci.edu/missions/hlsp/bosz/ascii/insbroad_050000/metal_-2.00/carbon_+0.00/alpha_+0.25/amm20cp00op03t7750g25v20modrt0b50000rs.asc.bz2\n",
      "https://archive.stsci.edu/missions/hlsp/bosz/ascii/insbroad_050000/metal_-2.00/carbon_+0.00/alpha_+0.25/amm20cp00op03t7750g20v20modrt0b50000rs.asc.bz2\n",
      "https://archive.stsci.edu/missions/hlsp/bosz/ascii/insbroad_050000/metal_-2.00/carbon_+0.00/alpha_+0.25/amm20cp00op03t7750g30v20modrt0b50000rs.asc.bz2\n",
      "https://archive.stsci.edu/missions/hlsp/bosz/ascii/insbroad_050000/metal_-2.00/carbon_+0.00/alpha_+0.25/amm20cp00op03t8250g25v20modrt0b50000rs.asc.bz2\n",
      "https://archive.stsci.edu/missions/hlsp/bosz/ascii/insbroad_050000/metal_-2.00/carbon_+0.00/alpha_+0.25/amm20cp00op03t8250g20v20modrt0b50000rs.asc.bz2\n",
      "https://archive.stsci.edu/missions/hlsp/bosz/ascii/insbroad_050000/metal_-2.00/carbon_+0.00/alpha_+0.25/amm20cp00op03t8250g30v20modrt0b50000rs.asc.bz2\n"
     ]
    }
   ],
   "source": [
    "pmt = [-2.0,8000,2.5,0.0,0.25]\n",
    "f.testTemplate(pmt)"
   ]
  }
 ],
 "metadata": {
  "kernelspec": {
   "display_name": "Python 3 [ae-tf]",
   "language": "python",
   "name": "python3-ae-tf"
  },
  "language_info": {
   "codemirror_mode": {
    "name": "ipython",
    "version": 3
   },
   "file_extension": ".py",
   "mimetype": "text/x-python",
   "name": "python",
   "nbconvert_exporter": "python",
   "pygments_lexer": "ipython3",
   "version": "3.8.10"
  }
 },
 "nbformat": 4,
 "nbformat_minor": 5
}
