{
 "cells": [
  {
   "cell_type": "code",
   "execution_count": 2,
   "metadata": {},
   "outputs": [],
   "source": [
    "#-------------------------------------------------------\n",
    "# demo code to perfrom maximum likelihood analysis of\n",
    "# radial velociy measurements between a spectrum and a\n",
    "# given template, drawn from the BOSZ models\n",
    "#\n",
    "# Alex Szalay, 2021-10-05\n",
    "#-------------------------------------------------------\n",
    "import numpy as np\n",
    "import scipy as sp\n",
    "import os\n",
    "import collections\n",
    "import copy\n",
    "import time\n",
    "import urllib\n",
    "import bz2\n",
    "import h5py\n",
    "\n",
    "import matplotlib.pyplot as plt\n",
    "from scipy import stats\n",
    "from numpy import linalg\n",
    "%matplotlib inline"
   ]
  },
  {
   "cell_type": "code",
   "execution_count": 3,
   "metadata": {},
   "outputs": [],
   "source": [
    "NORM_PATH = \"/scratch/ceph/szalay/swei20/AE/norm_flux.h5\"\n",
    "with h5py.File(NORM_PATH, 'r') as f:\n",
    "    para = f['para'][()]"
   ]
  },
  {
   "cell_type": "code",
   "execution_count": 4,
   "metadata": {},
   "outputs": [
    {
     "name": "stdout",
     "output_type": "stream",
     "text": [
      "Teff: [ 3500.  3750.  4000.  4250.  4500.  4750.  5000.  5250.  5500.  5750.\n",
      "  6000.  6250.  6500.  6750.  7000.  7250.  7500.  7750.  8000.  8250.\n",
      "  8500.  8750.  9000.  9250.  9500.  9750. 10000. 10250. 10500. 10750.\n",
      " 11000. 11250. 11500. 11750. 12000. 12500. 13000. 13500. 14000. 14500.\n",
      " 15000. 15500. 16000. 16500. 17000. 17500. 18000. 18500. 19000. 19500.\n",
      " 20000. 21000. 22000. 23000. 24000. 25000. 26000. 27000. 28000. 29000.\n",
      " 30000. 31000. 32000. 33000. 34000. 35000.]\n",
      "logG: [0.  0.5 1.  1.5 2.  2.5 3.  3.5 4.  4.5 5. ]\n",
      "M/H : [-2.5  -2.25 -2.   -1.75 -1.5  -1.25 -1.   -0.75 -0.5  -0.25  0.    0.25\n",
      "  0.5   0.75]\n",
      "ALP : [-0.25  0.    0.25  0.5 ]\n",
      "C/H : [-0.5  -0.25  0.    0.25  0.5 ]\n"
     ]
    }
   ],
   "source": [
    "MH    = para[:,0]\n",
    "Teff  = para[:,1]\n",
    "logG  = para[:,2]\n",
    "CH    = para[:,3]\n",
    "AH = para[:,4]\n",
    "uM = np.unique(MH)\n",
    "uT = np.unique(Teff)\n",
    "uG = np.unique(logG)\n",
    "uC = np.unique(CH)\n",
    "uA = np.unique(AH)\n",
    "\n",
    "if (1==1):\n",
    "    print('Teff:',uT)\n",
    "    print('logG:',uG)\n",
    "    print('M/H :',uM)\n",
    "    print('ALP :',uA)\n",
    "    print('C/H :',uC)"
   ]
  },
  {
   "cell_type": "code",
   "execution_count": 5,
   "metadata": {},
   "outputs": [],
   "source": [
    "#------------------------------------------------\n",
    "# set working directory (change it to your own)\n",
    "#------------------------------------------------\n",
    "# os.chdir('/home/idies/workspace/Storage/szalay/persistent/PFS/RV')\n",
    "\n",
    "#----------------------------------\n",
    "# read all the parameter data\n",
    "#----------------------------------\n",
    "DATAPATH = \"/home/swei20/LV/data/\"\n",
    "#--------------------------------------\n",
    "# read the raw Mauna Kea sky spectrum\n",
    "#--------------------------------------\n",
    "sky = np.genfromtxt(DATAPATH+'skybg_50_10.csv', delimiter=',')\n",
    "sky[:,0]= 10*sky[:,0]\n",
    "\n",
    "#-----------------------------------\n",
    "# create subdirectory for figures\n",
    "#-----------------------------------\n",
    "if (not os.path.isdir('./figs')):\n",
    "    os.mkdir('./figs')\n",
    "    "
   ]
  },
  {
   "cell_type": "code",
   "execution_count": 6,
   "metadata": {},
   "outputs": [],
   "source": [
    "#-----------------------------------------------------------------------------------\n",
    "# generate the url and the pathname from the parameters to download the spectrum\n",
    "#-----------------------------------------------------------------------------------\n",
    "def fmt(x):\n",
    "    y = np.round(np.abs(10*x)+0.2).astype(np.int32)\n",
    "    z = '{:+03.0f}'.format(y).replace('+','p')\n",
    "    if (np.sign(x)<0):\n",
    "        z = z.replace('p','m')\n",
    "    return z\n",
    "\n",
    "def fmn(x):    \n",
    "    return '{:02d}'.format(np.floor(x).astype(np.int32))\n",
    "\n",
    "def ffm(x):\n",
    "    return '{:+4.2f}'.format(x)   \n",
    "    \n",
    "def getfilename(m,c,a,t,g,R):\n",
    "    #---------------------------------------\n",
    "    # get the long filename for the website\n",
    "    #---------------------------------------\n",
    "    fname = 'am'+fmt(m)+'c'+fmt(c)+'o'+fmt(a)+'t'+fmn(t)+'g'\\\n",
    "        +fmn(10*g)+'v20modrt0b'+'{:d}'.format(R)+'rs.asc.bz2'\n",
    "    return fname\n",
    "\n",
    "def getname(m,c,a,t,g):\n",
    "    #----------------------------------\n",
    "    # get short name for the spectrum\n",
    "    #----------------------------------\n",
    "    fname = 'T'+fmn(t)+'G'+fmn(10*g)+'M'+fmt(m)+'A'+fmt(a)+'C'+fmt(c)\n",
    "    return fname\n",
    "    \n",
    "def geturl(m,c,a,t,g,R):\n",
    "    #----------------------------------------\n",
    "    # build the url for the STScI site\n",
    "    #----------------------------------------    \n",
    "    url = 'https://archive.stsci.edu/missions/hlsp/bosz/ascii/insbroad_'+'{:06d}'.format(R)+'/'\n",
    "    url = url + 'metal_'+ffm(m) + '/carbon_'+ffm(c) + '/alpha_'+ffm(a)\n",
    "    url = url + '/'+ getfilename(m,c,a,t,g,R)\n",
    "    return url\n",
    "\n",
    "#url = 'https://archive.stsci.edu/missions/hlsp/bosz/ascii/insbroad_020000/metal_-1.00/carbon_+0.00/alpha_+0.25/amm10cp00op03t10500g25v20modrt0b20000rs.asc.bz2'\n",
    "\n",
    "#--------------------------\n",
    "# get the data from a url\n",
    "#--------------------------\n",
    "def download_url(url, root, filename=None):\n",
    "    \"\"\"Download a file from a url and place it in root.\n",
    "    Args:\n",
    "        url (str): URL to download file from\n",
    "        root (str): Directory to place downloaded file in\n",
    "        filename (str, optional): Name to save the file under. If None, use the basename of the URL\n",
    "    \"\"\"\n",
    "    root = os.path.expanduser(root)\n",
    "    if not filename:\n",
    "        filename = os.path.basename(url)\n",
    "    fpath = os.path.join(root, filename)\n",
    "\n",
    "    os.makedirs(root, exist_ok=True)\n",
    "\n",
    "    try:\n",
    "        #print('Downloading ' + url + ' to ' + fpath)\n",
    "        urllib.request.urlretrieve(url, fpath)\n",
    "    except (urllib.error.URLError, IOError) as e:\n",
    "        if url[:5] == 'https':\n",
    "            url = url.replace('https:', 'http:')\n",
    "            print('Failed download. Trying https -> http instead.'\n",
    "                    ' Downloading ' + url + ' to ' + fpath)\n",
    "            urllib.request.urlretrieve(url, fpath)\n",
    "\n",
    "def getSpectrum(m,c,a,t,g):\n",
    "    #-----------------------------------------------------------\n",
    "    # get a spectrum given the 5 parameter values\n",
    "    # Input:\n",
    "    #   m : M/H\n",
    "    #   c : C/H\n",
    "    #   a : ALPHA/H\n",
    "    #   t : Teff\n",
    "    #   g : log g\n",
    "    # Output:\n",
    "    #   o[:,0] is the wavelength in \\AA\n",
    "    #   o[:,1] is the flux\n",
    "    #   o[:,2] is the theoretical envelope\n",
    "    #-----------------------------------------------------------\n",
    "    # The spectrum extends a bit beyond the MR range\n",
    "    #     6250 A < lambda < 9750 A\n",
    "    # If the parameter values are not on the grid, returns an \n",
    "    # empty vector and writes an error message\n",
    "    #-----------------------------------------------------------\n",
    "    # set the resolution in the BOSZ convention, \n",
    "    # corresponding to R=100,000\n",
    "    #-----------------------------------------------------------\n",
    "    R = 50000\n",
    "    #------------------------------------------------------\n",
    "    # first check if the values are a valid grid location\n",
    "    #------------------------------------------------------\n",
    "    if (~isValidGrid(m,c,a,t,g)):\n",
    "        print('Parameters are not on the grid')\n",
    "        return np.zeros((1,3))    \n",
    "    #--------------------------------------\n",
    "    # fbuild the url and fetch the data\n",
    "    #--------------------------------------\n",
    "    url = geturl(m,c,a,t,g,R)\n",
    "    print(url)\n",
    "    download_url(url,'tmp/','test.bz2')\n",
    "    #\n",
    "    filepath    = 'tmp/test.bz2'\n",
    "    newfilepath = 'tmp/test.txt'\n",
    "    #--------------------------\n",
    "    # unzip the spectrum\n",
    "    #--------------------------\n",
    "    with open(newfilepath, 'w') as new_file, bz2.BZ2File(filepath, 'rb') as file:\n",
    "        data = file.read().decode(\"utf-8\") \n",
    "        new_file.write(data)\n",
    "    d = np.genfromtxt(newfilepath, delimiter=' ')\n",
    "    #----------------------------------------------------------------------\n",
    "    # select the wavelength range for the medium resolution spectrograph\n",
    "    #----------------------------------------------------------------------\n",
    "    iw = (d[:,0]>=6250) & (d[:,0]<=9750)\n",
    "    o  = d[iw,:]\n",
    "    #\n",
    "    return o\n"
   ]
  },
  {
   "cell_type": "code",
   "execution_count": 7,
   "metadata": {},
   "outputs": [],
   "source": [
    "def isValidGrid(m,c,a,t,g):\n",
    "    #----------------------------------------------------------\n",
    "    # determine if the parameters are at a valid grid point\n",
    "    #----------------------------------------------------------\n",
    "    ix = (MH==m) & (CH==c) & (AH==a) & (Teff==t) & (logG==g)\n",
    "    return ix.any()\n"
   ]
  },
  {
   "cell_type": "code",
   "execution_count": 8,
   "metadata": {},
   "outputs": [],
   "source": [
    "#----------------------------------------------------------------------\n",
    "# Basic bulding blocks for creating the spectra.\n",
    "# These should be replaced with their proper PFS implementations.\n",
    "# we are starting from BOSZ spectra with R=50,000, corresponding\n",
    "# to lambda/dlambda = 100,000 per pixel.  We need to reduce this \n",
    "# to dlambda~0.4A, which is lambda/dlambda = 20,000, i.e. 5 h-pixels\n",
    "# per m-pixel. One h-pixel is 3 km/s, and one m-pixel is 15 km/s.\n",
    "#----------------------------------------------------------------------\n",
    "\n",
    "def resampleSpec(spec, step=5):\n",
    "    #-----------------------------------------------------\n",
    "    # resample the spectrum by a factor step\n",
    "    #-----------------------------------------------------\n",
    "    c = np.cumsum(spec)\n",
    "    b = list(range(1,spec.shape[0],step))\n",
    "    db = np.diff(c[b])\n",
    "    dd = (db/step)\n",
    "    return dd\n",
    "\n",
    "def resampleWave(wave,step=5):\n",
    "    #-----------------------------------------------------\n",
    "    # resample the wavelengths by a factor step\n",
    "    # output values are geometric mean of the boundaries.\n",
    "    #-----------------------------------------------------\n",
    "    w = np.cumsum(np.log(wave))\n",
    "    b = list(range(1,wave.shape[0],step))\n",
    "    db = np.diff(w[b])\n",
    "    dd = (db/step)\n",
    "    return np.exp(dd)\n",
    "\n",
    "def resampleSky(sky, ww, step=5):\n",
    "    #-----------------------------------------------------\n",
    "    # resample the sky matching the spectrum\n",
    "    #-----------------------------------------------------\n",
    "    # get the breakpoints in lambda\n",
    "    #--------------------------------\n",
    "    b = list(range(1,ww.shape[0],step))\n",
    "    ws = sky[:,0]\n",
    "    cs = np.cumsum(sky[:,1])\n",
    "    #---------------------------------------------------\n",
    "    # interpolate the cumulative sky to the breakpoints\n",
    "    #---------------------------------------------------\n",
    "    f = sp.interpolate.interp1d(ws,cs, fill_value=0)\n",
    "    sky_new = np.diff(f(ww[b]))\n",
    "    return sky_new\n",
    "\n",
    "def convolveSpec(spec,step=5):\n",
    "    #---------------------------------------------------------\n",
    "    # apply a line spread function to the h-pixel spectrum\n",
    "    # with a width of 1.3 m-pixels. This is using the log(lambda) \n",
    "    # binning in hirez.\n",
    "    #---------------------------------------------------------\n",
    "    sg = 1.3\n",
    "    #-----------------------------------\n",
    "    # create resampled kernel by step\n",
    "    # precompute the kernel, if there are many convolutions\n",
    "    #-----------------------------------\n",
    "    xx = np.linspace(-7*step, 7*step, 14*step+1)\n",
    "    yy = np.exp(-0.5*xx**2/sg**2)/np.sqrt(2*np.pi*sg**2)\n",
    "    fspec = np.convolve(spec,yy,'same')\n",
    "    return fspec\n",
    "\n",
    "def shiftSpec(ss, rv):\n",
    "    #--------------------------------------------------\n",
    "    # The radial velocity rv is given in km/sec units\n",
    "    # This must be done at the hirez pixel resolution\n",
    "    #--------------------------------------------------\n",
    "    ssobs = sp.ndimage.shift(ss,rv/3.0)\n",
    "    return ssobs\n"
   ]
  },
  {
   "cell_type": "code",
   "execution_count": 9,
   "metadata": {},
   "outputs": [],
   "source": [
    "#----------------------------------------------------------------------\n",
    "# Utility functions to build the templates and the observations.\n",
    "# These are simple mockups that will need to be replaced with real\n",
    "# ones, that simulate the spectrograph.  \n",
    "#-----------------------------------------------------------------------\n",
    "# For the variance we use an ad-hoc linear combination of the spectrum,\n",
    "# the sky and a uniform read noise. We use log lambda pixels for the MR, \n",
    "# needs to be changed, maybe to the real wavelength solution. For the\n",
    "# convolution with the LSF we use here a constant Gaussian with a sigma\n",
    "# of 1.3 MR pixels.\n",
    "#------------------------------------------------------------------------\n",
    "\n",
    "def getVar(ssm, skym):\n",
    "    #--------------------------------------------\n",
    "    # Get the total variance\n",
    "    # BETA is the scaling for the sky\n",
    "    # VREAD is the variance of the white noise\n",
    "    # This variance is still scaled with an additional\n",
    "    # factor when we simuate an observation.\n",
    "    #--------------------------------------------\n",
    "    BETA  = 10.0\n",
    "    VREAD = 16000\n",
    "    varm  = ssm + BETA*skym + VREAD\n",
    "    return varm\n",
    "\n",
    "def getModel(sconv,rv):\n",
    "    #-----------------------------------------------------\n",
    "    # Generate a spectrum shifted by rv. sconv is a high rez\n",
    "    # spectrum already convolved with the LSF, rv is the \n",
    "    # radial velocity in km/s. Here we convolve once for speed, \n",
    "    # then apply different shifts and resample.\n",
    "    #-----------------------------------------------------\n",
    "    ss1 = shiftSpec(sconv,rv)\n",
    "    ss1 = resampleSpec(ss1)    \n",
    "    return ss1\n",
    "    \n",
    "def getNoise(varm):\n",
    "    #--------------------------------------------------------\n",
    "    # given the noise variance, create a noise realization\n",
    "    # using a Gaussian approximation\n",
    "    # Input\n",
    "    #  varm: the variance in m-pixel resolution\n",
    "    # Output\n",
    "    #  noise: nosie realization in m-pixels\n",
    "    #--------------------------------------------------------\n",
    "    noise = np.random.normal(0, 1, len(varm))*np.sqrt(varm)\n",
    "    return noise\n",
    "\n",
    "def getObs(sconv,skym,rv,NL):\n",
    "    #----------------------------------------------------\n",
    "    # get a noisy spectrum for a simulated observation\n",
    "    #----------------------------------------------------\n",
    "    # inputs\n",
    "    #   sconv: the rest-frame spectrum in h-pixels, convolved\n",
    "    #   skym: the sky in m-pixels\n",
    "    #   rv  : the radial velocity in km/s\n",
    "    #   NL  : the noise amplitude\n",
    "    # outputs\n",
    "    #   ssm : the shifted, resampled sepectrum in m-pix\n",
    "    #   varm: the variance in m-pixels\n",
    "    #-----------------------------------------------\n",
    "    # get shifted spec and the variance\n",
    "    #-------------------------------------\n",
    "    ssm   = getModel(sconv,rv)\n",
    "    varm  = getVar(ssm,skym)\n",
    "    noise = getNoise(varm)  \n",
    "    #---------------------------------------\n",
    "    # add the scaled noise to the spectrum\n",
    "    #---------------------------------------\n",
    "    ssm = ssm + NL*noise\n",
    "    return ssm\n",
    "\n",
    "def getSN(spec):\n",
    "    #--------------------------------------------------\n",
    "    # estimate the S/N using Stoehr et al ADASS 2008\n",
    "    #    signal = median(flux(i))\n",
    "    #    noise = 1.482602 / sqrt(6.0) *\n",
    "    #    median(abs(2 * flux(i) - flux(i-2) - flux(i+2)))\n",
    "    #    DER_SNR = signal / noise\n",
    "    #--------------------------------------------------\n",
    "    s1 = np.median(spec)\n",
    "    s2 = np.abs(2*spec-sp.ndimage.shift(spec,2)-sp.ndimage.shift(spec,-2))\n",
    "    n1 = 1.482602/np.sqrt(6.0)*np.median(s2)\n",
    "    sn = s1/n1\n",
    "    return sn\n"
   ]
  },
  {
   "cell_type": "code",
   "execution_count": 10,
   "metadata": {},
   "outputs": [],
   "source": [
    "def makeNLArray(ss,skym):\n",
    "    #-----------------------------------------\n",
    "    # choose the noise levels so that the S/N \n",
    "    # comes at around the predetermined levels\n",
    "    #-----------------------------------------\n",
    "    nla = [2,5,10,20,50,100,200,500]\n",
    "    sna = [11,22,33,55,110]\n",
    "    \n",
    "    ssm   = getModel(ss,0)\n",
    "    varm  = getVar(ssm,skym)\n",
    "    noise = getNoise(varm)  \n",
    "    NL = []\n",
    "    SN = []\n",
    "    for nl in nla:\n",
    "        ssobs = ssm + nl*noise\n",
    "        sn    = getSN(ssobs)\n",
    "        NL.append(nl)\n",
    "        SN.append(sn)\n",
    "    f = sp.interpolate.interp1d(SN,NL, fill_value=0)\n",
    "    nlarray = f(sna)\n",
    "    \n",
    "    return nlarray\n"
   ]
  },
  {
   "cell_type": "code",
   "execution_count": 112,
   "metadata": {
    "tags": []
   },
   "outputs": [
    {
     "name": "stdout",
     "output_type": "stream",
     "text": [
      "https://archive.stsci.edu/missions/hlsp/bosz/ascii/insbroad_050000/metal_-2.00/carbon_+0.00/alpha_+0.25/amm20cp00op03t8250g25v20modrt0b50000rs.asc.bz2\n"
     ]
    }
   ],
   "source": [
    "##########################################################\n",
    "# get the spectrum to be analyzed (m,c,a,t,g)\n",
    "##########################################################\n",
    "#pmt  = [-1.5,0.0,0.25,4250,1.0] # Dwarf G     -- r\n",
    "#pmt  = [-2.0,0.0,0.25,4750,2.5] # M31 Giants  -- \n",
    "#pmt  = [-1.0,0.0,0.25,4750,4.0] # MW Warm MS  -- \n",
    "#pmt  = [-0.5,0.0,0.25,6000,2.5] # Red HB      -- 1D\n",
    "#pmt  = [-1.0,0.0,0.25,6500,4.0] # MW Cool MS  --\n",
    "#pmt  = [-2.0,0.0,0.25,8000,2.5] # Blue HB     -- \n",
    "\n",
    "pmts  = [\\\n",
    "    [-1.5,0.0,0.25,4250,1.0],\\\n",
    "    [-2.0,0.0,0.25,4750,2.5],\\\n",
    "    [-1.0,0.0,0.25,4750,4.0],\\\n",
    "    [-0.5,0.0,0.25,6000,2.5],\\\n",
    "    [-1.0,0.0,0.25,6500,4.0],\\\n",
    "    [-2.0,0.0,0.25,8000,2.5]]\n",
    "\n",
    "# pmt = pmts[-1]\n",
    "pmt = [-2.0, 0.0,0.25, 8250, 2.5]\n",
    "\n",
    "sname= getname(*pmt)\n",
    "o    = getSpectrum(*pmt)\n",
    "ww   = o[:,0]\n",
    "ss   = o[:,1]\n",
    "ssc  = convolveSpec(ss)\n",
    "\n",
    "wwm  = resampleWave(ww)\n",
    "ssm  = resampleSpec(ssc)\n",
    "iwm  = (wwm>=7100) & (wwm<=8850)\n",
    "skym = resampleSky(sky,ww)\n",
    "nlarr = makeNLArray(ssc,skym)\n",
    "\n",
    "##########################################\n",
    "# Now ready to launch further tests\n",
    "##########################################"
   ]
  },
  {
   "cell_type": "code",
   "execution_count": 113,
   "metadata": {},
   "outputs": [
    {
     "data": {
      "text/plain": [
       "(8893,)"
      ]
     },
     "execution_count": 113,
     "metadata": {},
     "output_type": "execute_result"
    }
   ],
   "source": [
    "skym.shape"
   ]
  },
  {
   "cell_type": "code",
   "execution_count": 114,
   "metadata": {},
   "outputs": [
    {
     "data": {
      "text/plain": [
       "(44468,)"
      ]
     },
     "execution_count": 114,
     "metadata": {},
     "output_type": "execute_result"
    }
   ],
   "source": [
    "ssc.shape"
   ]
  },
  {
   "cell_type": "code",
   "execution_count": 126,
   "metadata": {},
   "outputs": [],
   "source": [
    "dx = 3\n",
    "waveL = resampleWave(wwm[dx:],20)\n",
    "fluxOL = resampleSpec(ssm[dx:],20)\n",
    "iwmL = (waveL>=7100) & (waveL<=8850)\n",
    "waveL = waveL[iwmL]\n",
    "fluxOL = fluxOL[iwmL]"
   ]
  },
  {
   "cell_type": "code",
   "execution_count": 127,
   "metadata": {},
   "outputs": [
    {
     "data": {
      "text/plain": [
       "[<matplotlib.lines.Line2D at 0x7f33f6ca6580>]"
      ]
     },
     "execution_count": 127,
     "metadata": {},
     "output_type": "execute_result"
    },
    {
     "data": {
      "image/png": "[encoded data removed]",
      "text/plain": [
       "<Figure size 432x288 with 1 Axes>"
      ]
     },
     "metadata": {
      "needs_background": "light"
     },
     "output_type": "display_data"
    }
   ],
   "source": [
    "plt.plot(waveL, fluxOL)"
   ]
  },
  {
   "cell_type": "code",
   "execution_count": 136,
   "metadata": {
    "tags": []
   },
   "outputs": [
    {
     "data": {
      "text/plain": [
       "((1000, 221), (221,), 10)"
      ]
     },
     "execution_count": 136,
     "metadata": {},
     "output_type": "execute_result"
    }
   ],
   "source": [
    "nsflux = []\n",
    "N=1000\n",
    "for i in range(N):\n",
    "    ssobs = getObs(ssc,skym,0, nlarr[0])\n",
    "    fluxL = resampleSpec(ssobs[dx:],20)\n",
    "    fluxL = fluxL[iwmL]\n",
    "    nsflux.append(fluxL)\n",
    "nsflux = np.vstack(nsflux)\n",
    "\n",
    "SN = int(np.around(getSN(ssobs),-1))\n",
    "nsflux.shape, fluxOL.shape, SN\n",
    "#     plt.figure(figsize=(16,6))\n",
    "#     plt.plot(wwm[iwm],ssobs[iwm],lw=0.2)\n",
    "#     plt.plot(wwm[iwm],ssm[iwm],lw=1)\n",
    "#     plt.show()"
   ]
  },
  {
   "cell_type": "code",
   "execution_count": 137,
   "metadata": {},
   "outputs": [],
   "source": [
    "save_nsflux(waveL, fluxOL, nsflux, SN, N,R=\"BHB\")"
   ]
  },
  {
   "cell_type": "code",
   "execution_count": 111,
   "metadata": {},
   "outputs": [],
   "source": [
    "def save_nsflux(wave, flux, nsflux, SN, N, R=\"BHB\"):\n",
    "    nn = N // 1000\n",
    "    PATH = f\"/scratch/ceph/swei20/data/dnn/{R}/snr{SN}_{nn}k.h5\"\n",
    "    with h5py.File(PATH, \"w\") as f:\n",
    "        f.create_dataset(f\"nsflux_R\", data=nsflux, shape=nsflux.shape)\n",
    "        f.create_dataset(f\"flux_R\", data=flux, shape=flux.shape)\n",
    "        f.create_dataset(f\"wave_R\", data=wave, shape=wave.shape)\n",
    "\n",
    "#     f.create_dataset(f\"lbl{ww}\", data=lbls, shape=lbls.shape)\n",
    "#     f.create_dataset(f\"para{ww}\", data=paras, shape=paras.shape)"
   ]
  },
  {
   "cell_type": "code",
   "execution_count": 53,
   "metadata": {},
   "outputs": [
    {
     "data": {
      "text/plain": [
       "array([7100.24199931, 7100.59719931, 7100.95211929, ..., 8848.77011914,\n",
       "       8849.21249903, 8849.65525905])"
      ]
     },
     "execution_count": 53,
     "metadata": {},
     "output_type": "execute_result"
    }
   ],
   "source": [
    "wwm[iwm]"
   ]
  },
  {
   "cell_type": "code",
   "execution_count": 30,
   "metadata": {},
   "outputs": [
    {
     "data": {
      "text/plain": [
       "(8893, 4406)"
      ]
     },
     "execution_count": 30,
     "metadata": {},
     "output_type": "execute_result"
    }
   ],
   "source": [
    "len(wwm), len(wwm[iwm])"
   ]
  },
  {
   "cell_type": "code",
   "execution_count": 27,
   "metadata": {},
   "outputs": [
    {
     "data": {
      "text/plain": [
       "8893"
      ]
     },
     "execution_count": 27,
     "metadata": {},
     "output_type": "execute_result"
    }
   ],
   "source": [
    "len(ssobs)"
   ]
  },
  {
   "cell_type": "code",
   "execution_count": 35,
   "metadata": {},
   "outputs": [
    {
     "data": {
      "text/plain": [
       "(220,)"
      ]
     },
     "execution_count": 35,
     "metadata": {},
     "output_type": "execute_result"
    }
   ],
   "source": [
    "resampleWave(wwm[iwm], 20).shape"
   ]
  },
  {
   "cell_type": "code",
   "execution_count": null,
   "metadata": {},
   "outputs": [],
   "source": [
    "W=\"RML\"\n",
    "DATA_PATH = f\"/scratch/ceph/szalay/swei20/AE/norm_flux_{W}_R1000.h5\"\n",
    "with h5py.File(DATA_PATH, 'r') as f:\n",
    "    flux = f['flux'][()]\n",
    "    para = f['para'][()]\n",
    "    wave = f['wave'][()]"
   ]
  }
 ],
 "metadata": {
  "kernelspec": {
   "display_name": "Python 3 [viska-tf25]",
   "language": "python",
   "name": "python3-viska-tf25"
  },
  "language_info": {
   "codemirror_mode": {
    "name": "ipython",
    "version": 3
   },
   "file_extension": ".py",
   "mimetype": "text/x-python",
   "name": "python",
   "nbconvert_exporter": "python",
   "pygments_lexer": "ipython3",
   "version": "3.9.6"
  }
 },
 "nbformat": 4,
 "nbformat_minor": 4
}
