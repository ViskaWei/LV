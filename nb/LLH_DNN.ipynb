{
 "cells": [
  {
   "cell_type": "code",
   "execution_count": 1,
   "id": "29860d90-0aa0-40d2-8284-8dacc028476e",
   "metadata": {},
   "outputs": [],
   "source": [
    "%load_ext autoreload\n",
    "%autoreload 2"
   ]
  },
  {
   "cell_type": "code",
   "execution_count": 2,
   "id": "172d253b-a124-4fdd-825b-a521a468651b",
   "metadata": {},
   "outputs": [],
   "source": [
    "import os\n",
    "import sys\n",
    "import h5py\n",
    "import numpy as np\n",
    "import pandas as pd\n",
    "import seaborn as sns\n",
    "import matplotlib.pyplot as plt\n",
    "from tqdm import tqdm"
   ]
  },
  {
   "cell_type": "code",
   "execution_count": 3,
   "id": "e3eb72e7-235d-4dae-847f-d1fb277a3787",
   "metadata": {},
   "outputs": [],
   "source": [
    "PROJECT_PATH = '../'\n",
    "import sys\n",
    "sys.path.insert(0, PROJECT_PATH)"
   ]
  },
  {
   "cell_type": "code",
   "execution_count": 32,
   "id": "74513907-5bde-48d3-b7f4-5042e7ad88da",
   "metadata": {},
   "outputs": [],
   "source": [
    "from lv.dnn.dnn_LLH import DNN_LLH"
   ]
  },
  {
   "cell_type": "code",
   "execution_count": 33,
   "id": "9e885391-f080-4e5a-8bcf-dd794ca9dd3b",
   "metadata": {},
   "outputs": [],
   "source": [
    "d = DNN_LLH()"
   ]
  },
  {
   "cell_type": "code",
   "execution_count": 34,
   "id": "5720284e-38a0-4925-82ab-f7bc0c4875c6",
   "metadata": {},
   "outputs": [],
   "source": [
    "NL=1\n",
    "d.prepare(\"B\", NL)"
   ]
  },
  {
   "cell_type": "code",
   "execution_count": 30,
   "id": "896a17ec-4b7f-4c34-8f15-aa7208600a3c",
   "metadata": {},
   "outputs": [
    {
     "name": "stdout",
     "output_type": "stream",
     "text": [
      "Layers: [10, 64, 32, 16, 5]\n",
      "| EP 1 |loss: 0.1248 | mean_: 0.1248 | val_l: 0.0758 | val_m: 0.0758 | lr: 0.0100 | \n"
     ]
    }
   ],
   "source": [
    "d.run_R0(\"B\", d.top)"
   ]
  },
  {
   "cell_type": "code",
   "execution_count": 31,
   "id": "a27debf7-4b21-438a-adb3-4e61c41ef535",
   "metadata": {},
   "outputs": [
    {
     "ename": "NameError",
     "evalue": "name 'flux0' is not defined",
     "output_type": "error",
     "traceback": [
      "\u001b[0;31m---------------------------------------------------------------------------\u001b[0m",
      "\u001b[0;31mNameError\u001b[0m                                 Traceback (most recent call last)",
      "\u001b[0;32m/tmp/ipykernel_2255442/679869341.py\u001b[0m in \u001b[0;36m<module>\u001b[0;34m\u001b[0m\n\u001b[0;32m----> 1\u001b[0;31m \u001b[0mflux0\u001b[0m\u001b[0;34m\u001b[0m\u001b[0;34m\u001b[0m\u001b[0m\n\u001b[0m",
      "\u001b[0;31mNameError\u001b[0m: name 'flux0' is not defined"
     ]
    }
   ],
   "source": []
  },
  {
   "cell_type": "code",
   "execution_count": null,
   "id": "dfe472e1-d478-47c9-87c5-974fccc7f912",
   "metadata": {},
   "outputs": [],
   "source": [
    "d.predict_R0(flu)"
   ]
  },
  {
   "cell_type": "code",
   "execution_count": null,
   "id": "2da4e371-263f-4044-a4cc-ed5ce1fea452",
   "metadata": {},
   "outputs": [],
   "source": []
  },
  {
   "cell_type": "code",
   "execution_count": 56,
   "id": "720eb6c0-3f6e-4bce-89f9-3cce9b0d35e8",
   "metadata": {},
   "outputs": [],
   "source": [
    "from lv.dnn.dnn_ALL import DNN_ALL"
   ]
  },
  {
   "cell_type": "code",
   "execution_count": 134,
   "id": "776e323c-73cd-404e-85a7-76946089d531",
   "metadata": {},
   "outputs": [],
   "source": [
    "d = DNN_ALL(arms=[\"RML\"],grid=0, top=60, pdx=[0,1,2], N_test=1000, pc_name=\"_100k\")"
   ]
  },
  {
   "cell_type": "code",
   "execution_count": 135,
   "id": "2b6798c6-ffcb-4752-a386-94f140359fe8",
   "metadata": {},
   "outputs": [],
   "source": [
    "d.prepare(N_train=100000, isNoisy=1)"
   ]
  },
  {
   "cell_type": "code",
   "execution_count": 136,
   "id": "29cf7d64-ecc4-40a2-8500-3dc7fa49db46",
   "metadata": {},
   "outputs": [
    {
     "name": "stdout",
     "output_type": "stream",
     "text": [
      "Layers: [60, 64, 32, 16, 3]\n",
      "| EP 2000 |loss: 0.0163 | mean_: 0.0163 | val_l: 0.0136 | val_m: 0.0136 | lr: 0.0001 | \n",
      "Layers: [60, 64, 32, 16, 3]\n",
      "| EP 2000 |loss: 0.0171 | mean_: 0.0171 | val_l: 0.0139 | val_m: 0.0139 | lr: 0.0100 | \n",
      "Layers: [60, 64, 32, 16, 3]\n",
      "| EP 2000 |loss: 0.0217 | mean_: 0.0217 | val_l: 0.0193 | val_m: 0.0193 | lr: 0.0000 | \n",
      "Layers: [60, 64, 32, 16, 3]\n",
      "| EP 2000 |loss: 0.0313 | mean_: 0.0313 | val_l: 0.0291 | val_m: 0.0291 | lr: 0.0010 | \n",
      "Layers: [60, 64, 32, 16, 3]\n",
      "| EP 2000 |loss: 0.0156 | mean_: 0.0156 | val_l: 0.0118 | val_m: 0.0118 | lr: 0.0100 | \n",
      "Layers: [60, 64, 32, 16, 3]\n",
      "| EP 2000 |loss: 0.0291 | mean_: 0.0291 | val_l: 0.0273 | val_m: 0.0273 | lr: 0.0010 | \n"
     ]
    }
   ],
   "source": [
    "d.run(lr=0.01, dp=0.01, ep=2000)"
   ]
  }
 ],
 "metadata": {
  "kernelspec": {
   "display_name": "Python 3 [viska-tf25]",
   "language": "python",
   "name": "python3-viska-tf25"
  },
  "language_info": {
   "codemirror_mode": {
    "name": "ipython",
    "version": 3
   },
   "file_extension": ".py",
   "mimetype": "text/x-python",
   "name": "python",
   "nbconvert_exporter": "python",
   "pygments_lexer": "ipython3",
   "version": "3.9.6"
  }
 },
 "nbformat": 4,
 "nbformat_minor": 5
}
